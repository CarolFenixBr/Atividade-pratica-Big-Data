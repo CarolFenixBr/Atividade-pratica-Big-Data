{
  "nbformat": 4,
  "nbformat_minor": 0,
  "metadata": {
    "colab": {
      "provenance": [],
      "authorship_tag": "ABX9TyNs57TsvTVFenHojhUhUz0Q",
      "include_colab_link": true
    },
    "kernelspec": {
      "name": "python3",
      "display_name": "Python 3"
    },
    "language_info": {
      "name": "python"
    }
  },
  "cells": [
    {
      "cell_type": "markdown",
      "metadata": {
        "id": "view-in-github",
        "colab_type": "text"
      },
      "source": [
        "<a href=\"https://colab.research.google.com/github/CarolFenixBr/Atividade-pratica-Big-Data/blob/main/Big_Data_Caroline_Vargas_da_Silva_Costa%3B_RU_4184359.ipynb\" target=\"_parent\"><img src=\"https://colab.research.google.com/assets/colab-badge.svg\" alt=\"Open In Colab\"/></a>"
      ]
    },
    {
      "cell_type": "code",
      "source": [
        "import os"
      ],
      "metadata": {
        "id": "VIYdNpkXcxUk"
      },
      "execution_count": null,
      "outputs": []
    },
    {
      "cell_type": "code",
      "source": [
        "# Instalar Java 8\n",
        "\n",
        "! apt-get install openjdk-8-jdk-headless -qq > /dev/null"
      ],
      "metadata": {
        "id": "YlJSYBWpZh2N"
      },
      "execution_count": null,
      "outputs": []
    },
    {
      "cell_type": "code",
      "source": [
        "! java --version\n"
      ],
      "metadata": {
        "id": "NxxdqZfBaNA1"
      },
      "execution_count": null,
      "outputs": []
    },
    {
      "cell_type": "code",
      "source": [
        "# baixar, descompactar e configurar apache spark\n",
        "\n",
        "!wget -q https://dlcdn.apache.org/spark/spark-3.5.1/spark-3.5.1-bin-hadoop3.tgz"
      ],
      "metadata": {
        "id": "I6z3qxjRZd4T"
      },
      "execution_count": null,
      "outputs": []
    },
    {
      "cell_type": "code",
      "source": [
        "!tar -xvf spark-3.5.1-bin-hadoop3.tgz"
      ],
      "metadata": {
        "id": "Q8XltbvfayLC"
      },
      "execution_count": null,
      "outputs": []
    },
    {
      "cell_type": "code",
      "source": [
        "!rm -rf spark-3.5.1-bin-hadoop3.tgz"
      ],
      "metadata": {
        "id": "hiLgVRp0d1gn"
      },
      "execution_count": null,
      "outputs": []
    },
    {
      "cell_type": "code",
      "source": [
        "!pip install -q findspark\n"
      ],
      "metadata": {
        "id": "Hjxzj3b7b1wf"
      },
      "execution_count": null,
      "outputs": []
    },
    {
      "cell_type": "code",
      "source": [
        "# Configurando variaveis de ambientes\n",
        "\n",
        "os.environ['JAVA_HOME'] = \"/usr/lib/jvm/java-8-openjdk-amd64\"\n",
        "os.environ['SPARK_HOME'] = \"/content/spark-3.5.1-bin-hadoop3\"\n",
        "\n"
      ],
      "metadata": {
        "id": "fXzf40X8czMm"
      },
      "execution_count": null,
      "outputs": []
    },
    {
      "cell_type": "code",
      "source": [
        "!wget https://raw.githubusercontent.com/N-CPUninter/Big_Data/main/data/imdb-reviews-pt-br.zip -O imdb-reviews-pt-br.zip\n",
        "!unzip imdb-reviews-pt-br.zip\n",
        "!rm imdb-reviews-pt-br.zip"
      ],
      "metadata": {
        "id": "QNgXiuABeokl"
      },
      "execution_count": null,
      "outputs": []
    },
    {
      "cell_type": "code",
      "source": [
        "# Iniciando uma sessão com spark\n",
        "\n",
        "import findspark\n",
        "\n",
        "findspark.init()\n",
        "\n",
        "from pyspark.sql import SparkSession\n",
        "\n",
        "spark = SparkSession.builder.master(\"local[*]\").appName('PySpark Trabalho de Big Data').getOrCreate()"
      ],
      "metadata": {
        "id": "XZhYkkFLfmnx"
      },
      "execution_count": null,
      "outputs": []
    },
    {
      "cell_type": "code",
      "source": [
        "# Carregue o arquivo CSV\n",
        "df = spark.read.csv(\"imdb-reviews-pt-br.csv\", header=True, inferSchema=True)\n"
      ],
      "metadata": {
        "id": "shhxhERxhb2q"
      },
      "execution_count": null,
      "outputs": []
    },
    {
      "cell_type": "code",
      "source": [
        "df.show()"
      ],
      "metadata": {
        "id": "3cgQNd9Oj2gr"
      },
      "execution_count": null,
      "outputs": []
    },
    {
      "cell_type": "code",
      "source": [
        "#importando os métodos com funções\n",
        "\n",
        "from pyspark.sql.functions import*\n"
      ],
      "metadata": {
        "id": "MSw2X1e5ksUB"
      },
      "execution_count": null,
      "outputs": []
    },
    {
      "cell_type": "code",
      "source": [
        "df = df.withColumn(\n",
        "    colName = 'id',\n",
        "    col = regexp_replace('id','','').cast('int')\n",
        ")"
      ],
      "metadata": {
        "id": "qGOoC1H6k2Gt"
      },
      "execution_count": null,
      "outputs": []
    },
    {
      "cell_type": "code",
      "source": [
        "#print do resultado\n",
        "df.select('id').printSchema()"
      ],
      "metadata": {
        "id": "hNpc8-pgloQ9"
      },
      "execution_count": null,
      "outputs": []
    },
    {
      "cell_type": "code",
      "source": [
        "#criação de variável com id e sentiment\n",
        "df_Select = df.select('id','sentiment')"
      ],
      "metadata": {
        "id": "x-VltcgxmW9K"
      },
      "execution_count": null,
      "outputs": []
    },
    {
      "cell_type": "code",
      "source": [
        "#mostra resultado\n",
        "df_Select.show()"
      ],
      "metadata": {
        "id": "wKlo9CE9nedF"
      },
      "execution_count": null,
      "outputs": []
    },
    {
      "cell_type": "code",
      "source": [
        "#Filtro por sentiment = neg\n",
        "df_Neg = df_Select.where('sentiment == \"neg\" ')"
      ],
      "metadata": {
        "id": "SvtYMxMinysE"
      },
      "execution_count": null,
      "outputs": []
    },
    {
      "cell_type": "code",
      "source": [
        "#Print resultado\n",
        "print(\"Palavras filtradas com sentiment = neg\")\n",
        "df_Neg.show()"
      ],
      "metadata": {
        "id": "a1RYcvNGoGR8"
      },
      "execution_count": null,
      "outputs": []
    },
    {
      "cell_type": "code",
      "source": [
        "total_neg = df_Neg.groupBy('sentiment').agg(sum('id').alias(\"Total_Id_Neg\")).orderBy('sentiment').where('sentiment == \"neg\" ')\n",
        "total_neg.show()"
      ],
      "metadata": {
        "colab": {
          "base_uri": "https://localhost:8080/"
        },
        "id": "TbCQ6VuJvtPe",
        "outputId": "1d11a081-551c-47ac-f6b9-ba4cb754ca8a"
      },
      "execution_count": null,
      "outputs": [
        {
          "output_type": "stream",
          "name": "stdout",
          "text": [
            "+---------+------------+\n",
            "|sentiment|Total_Id_Neg|\n",
            "+---------+------------+\n",
            "|      neg|   247015948|\n",
            "+---------+------------+\n",
            "\n"
          ]
        }
      ]
    },
    {
      "cell_type": "code",
      "source": [
        "total_neg_id = total_neg.select(col(\"Total_Id_Neg\")).first()[0]"
      ],
      "metadata": {
        "id": "5s0gv4834oIF"
      },
      "execution_count": null,
      "outputs": []
    },
    {
      "cell_type": "code",
      "source": [
        "print(f\"A soma dos campos 'id' dos filmes negativos é: {total_neg_id}\")"
      ],
      "metadata": {
        "colab": {
          "base_uri": "https://localhost:8080/"
        },
        "id": "-Pg5Eu4G1JPQ",
        "outputId": "e8c90de4-1f86-42bb-c760-74769091f99b"
      },
      "execution_count": null,
      "outputs": [
        {
          "output_type": "stream",
          "name": "stdout",
          "text": [
            "A soma dos campos 'id' dos filmes negativos é: 247015948\n"
          ]
        }
      ]
    }
  ]
}