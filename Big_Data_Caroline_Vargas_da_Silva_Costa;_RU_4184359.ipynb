{
  "nbformat": 4,
  "nbformat_minor": 0,
  "metadata": {
    "colab": {
      "provenance": [],
      "mount_file_id": "1gN9ykzfJ_53VaVnzvRl87Pl986ZnEYto",
      "authorship_tag": "ABX9TyPAFCaEJJDaOBAF4aE0Hr6x",
      "include_colab_link": true
    },
    "kernelspec": {
      "name": "python3",
      "display_name": "Python 3"
    },
    "language_info": {
      "name": "python"
    }
  },
  "cells": [
    {
      "cell_type": "markdown",
      "metadata": {
        "id": "view-in-github",
        "colab_type": "text"
      },
      "source": [
        "<a href=\"https://colab.research.google.com/github/CarolFenixBr/Atividade-pratica-Big-Data/blob/main/Big_Data_Caroline_Vargas_da_Silva_Costa%3B_RU_4184359.ipynb\" target=\"_parent\"><img src=\"https://colab.research.google.com/assets/colab-badge.svg\" alt=\"Open In Colab\"/></a>"
      ]
    },
    {
      "cell_type": "markdown",
      "source": [
        "# Questão 1\n",
        "### Qual o valor da soma de todos os campos “id” dos filmes classificados como negativos para o banco de dados “imdb-reviews-pt-br.csv”"
      ],
      "metadata": {
        "id": "q2P6PR6Mswzw"
      }
    },
    {
      "cell_type": "markdown",
      "source": [
        "Aluna: Caroline Vargas da Silva Costa\n",
        "RU: 4184359"
      ],
      "metadata": {
        "id": "4nb4xFy603Mq"
      }
    },
    {
      "cell_type": "code",
      "execution_count": null,
      "metadata": {
        "id": "VOpk2t8xm5Ot"
      },
      "outputs": [],
      "source": [
        "from google.colab import drive\n",
        "drive.mount('/content/drive')"
      ]
    },
    {
      "cell_type": "code",
      "source": [
        "# Instalar Java 8\n",
        "\n",
        "! apt-get install openjdk-8-jdk-headless -qq > /dev/null"
      ],
      "metadata": {
        "id": "69T9Vok6nypO"
      },
      "execution_count": null,
      "outputs": []
    },
    {
      "cell_type": "code",
      "source": [
        "# baixar, descompactar e configurar apache spark\n",
        "\n",
        "!wget -q https://dlcdn.apache.org/spark/spark-3.5.1/spark-3.5.1-bin-hadoop3.tgz\n",
        "!tar -xvf spark-3.5.1-bin-hadoop3.tgz"
      ],
      "metadata": {
        "id": "WSsM0q4joA9O"
      },
      "execution_count": null,
      "outputs": []
    },
    {
      "cell_type": "code",
      "source": [
        "!pip install -q findspark\n"
      ],
      "metadata": {
        "id": "ktQC2ZWwoLDm"
      },
      "execution_count": null,
      "outputs": []
    },
    {
      "cell_type": "code",
      "source": [
        "import os"
      ],
      "metadata": {
        "id": "6T4FZVIcoRaa"
      },
      "execution_count": null,
      "outputs": []
    },
    {
      "cell_type": "code",
      "source": [
        "# Configurando variaveis de ambientes\n",
        "\n",
        "os.environ['JAVA_HOME'] = \"/usr/lib/jvm/java-8-openjdk-amd64\"\n",
        "os.environ['SPARK_HOME'] = \"/content/spark-3.5.1-bin-hadoop3\""
      ],
      "metadata": {
        "id": "EY47B-1WoUrl"
      },
      "execution_count": null,
      "outputs": []
    },
    {
      "cell_type": "code",
      "source": [
        "#criação de uma copia do dataframe\n",
        "!cp /content/drive/MyDrive/imdb-reviews-pt-br.csv /content"
      ],
      "metadata": {
        "id": "X9Bo138CoYAO"
      },
      "execution_count": null,
      "outputs": []
    },
    {
      "cell_type": "code",
      "source": [
        "import findspark"
      ],
      "metadata": {
        "id": "CIae0qoUonlQ"
      },
      "execution_count": null,
      "outputs": []
    },
    {
      "cell_type": "code",
      "source": [
        "findspark.init()"
      ],
      "metadata": {
        "id": "LAEysV6MoqS6"
      },
      "execution_count": null,
      "outputs": []
    },
    {
      "cell_type": "code",
      "source": [
        "from pyspark.sql import SparkSession"
      ],
      "metadata": {
        "id": "hUWSxZcbottd"
      },
      "execution_count": null,
      "outputs": []
    },
    {
      "cell_type": "code",
      "source": [
        "#criando sessão\n",
        "spark = SparkSession.builder.master(\"local[*]\").getOrCreate()"
      ],
      "metadata": {
        "id": "vA7ZNmXlo0hA"
      },
      "execution_count": null,
      "outputs": []
    },
    {
      "cell_type": "code",
      "source": [
        "# Carregue o arquivo CSV\n",
        "df = spark.read.csv(\"imdb-reviews-pt-br.csv\", header=True, quote=\"\\\"\", escape=\"\\\"\", encoding=\"UTF-8\")"
      ],
      "metadata": {
        "id": "ij0XzMVJpGgd"
      },
      "execution_count": null,
      "outputs": []
    },
    {
      "cell_type": "code",
      "source": [
        "df.show()"
      ],
      "metadata": {
        "id": "WIocKpZhpwvi"
      },
      "execution_count": null,
      "outputs": []
    },
    {
      "cell_type": "code",
      "source": [
        "df.printSchema()"
      ],
      "metadata": {
        "id": "ikIpvmU6p4X5"
      },
      "execution_count": null,
      "outputs": []
    },
    {
      "cell_type": "code",
      "source": [
        "type(df)"
      ],
      "metadata": {
        "id": "Cu6hnSJfp9BW"
      },
      "execution_count": null,
      "outputs": []
    },
    {
      "cell_type": "code",
      "source": [
        "df.count()"
      ],
      "metadata": {
        "id": "r4fRD8VmqDQ8"
      },
      "execution_count": null,
      "outputs": []
    },
    {
      "cell_type": "code",
      "source": [
        "from pyspark.sql.functions import*"
      ],
      "metadata": {
        "id": "mN8X--FNqJ1O"
      },
      "execution_count": null,
      "outputs": []
    },
    {
      "cell_type": "code",
      "source": [
        "df = df.withColumn(\n",
        "    colName = 'id',\n",
        "    col = regexp_replace('id','','').cast('int')\n",
        ")"
      ],
      "metadata": {
        "id": "fhCKUtttqRDB"
      },
      "execution_count": null,
      "outputs": []
    },
    {
      "cell_type": "code",
      "source": [
        "#print do resultado\n",
        "df.select('id').printSchema()"
      ],
      "metadata": {
        "id": "HkuTPuv6qW8h"
      },
      "execution_count": null,
      "outputs": []
    },
    {
      "cell_type": "code",
      "source": [
        "#criação de variável com id e sentiment\n",
        "df_Select = df.select('id','sentiment')"
      ],
      "metadata": {
        "id": "aufx1Zg2qa0Y"
      },
      "execution_count": null,
      "outputs": []
    },
    {
      "cell_type": "code",
      "source": [
        "#mostra resultado\n",
        "df_Select.show()"
      ],
      "metadata": {
        "id": "Issor5pDqeKI"
      },
      "execution_count": null,
      "outputs": []
    },
    {
      "cell_type": "code",
      "source": [
        "#Filtro por sentiment = neg\n",
        "df_Neg = df_Select.where('sentiment == \"neg\" ')"
      ],
      "metadata": {
        "id": "TKesUyEAqkPC"
      },
      "execution_count": null,
      "outputs": []
    },
    {
      "cell_type": "code",
      "source": [
        "#Print resultado\n",
        "print(\"Palavras filtradas com sentiment = neg\")\n",
        "df_Neg.show()"
      ],
      "metadata": {
        "id": "ATpQyaccqoDR"
      },
      "execution_count": null,
      "outputs": []
    },
    {
      "cell_type": "code",
      "source": [
        "total_negativo = df_Neg.groupBy('sentiment').agg(sum('id').alias(\"Total_Id_Negativo\")).orderBy('sentiment').where('sentiment == \"neg\" ')\n",
        "total_negativo.show()"
      ],
      "metadata": {
        "colab": {
          "base_uri": "https://localhost:8080/"
        },
        "id": "gtxwiUMcqtee",
        "outputId": "3ae28c4a-3ca6-4aba-c939-c56ab1856087"
      },
      "execution_count": null,
      "outputs": [
        {
          "output_type": "stream",
          "name": "stdout",
          "text": [
            "+---------+-----------------+\n",
            "|sentiment|Total_Id_Negativo|\n",
            "+---------+-----------------+\n",
            "|      neg|        459568555|\n",
            "+---------+-----------------+\n",
            "\n"
          ]
        }
      ]
    },
    {
      "cell_type": "code",
      "source": [
        "soma_neg = total_negativo.select(col(\"Total_Id_Negativo\")).first()[0]\n",
        "print(f'O valor da soma de todos os campos id dos filmes classificados como negativos é: {soma_neg}')"
      ],
      "metadata": {
        "colab": {
          "base_uri": "https://localhost:8080/"
        },
        "id": "wqGm0Fn4rYJ-",
        "outputId": "d83aeff6-1661-401d-e55e-c80124b16d21"
      },
      "execution_count": null,
      "outputs": [
        {
          "output_type": "stream",
          "name": "stdout",
          "text": [
            "O valor da soma de todos os campos id dos filmes classificados como negativos é: 459568555\n"
          ]
        }
      ]
    },
    {
      "cell_type": "markdown",
      "source": [
        "Aluna: Caroline Vargas da Silva Costa\n",
        "RU: 4184359"
      ],
      "metadata": {
        "id": "aGbV8jso2Gac"
      }
    },
    {
      "cell_type": "markdown",
      "source": [
        "<h2> A resposta dos filmes classificados como negativos é 459568555 </h2>"
      ],
      "metadata": {
        "id": "KeA8swSsrjq8"
      }
    },
    {
      "cell_type": "markdown",
      "source": [
        "Aluna: Caroline Vargas da Silva Costa\n",
        "RU: 4184359"
      ],
      "metadata": {
        "id": "xkdToEcW2e3b"
      }
    },
    {
      "cell_type": "markdown",
      "source": [
        "# Questão 2\n",
        "### Diferença do número de palavras totais de português para inglês dos textos negativos"
      ],
      "metadata": {
        "id": "jxNpbEn5s5_I"
      }
    },
    {
      "cell_type": "markdown",
      "source": [
        "Aluna: Caroline Vargas da Silva Costa\n",
        "RU: 4184359"
      ],
      "metadata": {
        "id": "-gVkNTnW0gbw"
      }
    },
    {
      "cell_type": "code",
      "source": [
        "#selecionando a coluna de en e pt\n",
        "df_en = df.select('id', 'text_en','sentiment')\n",
        "df_pt = df.select('id', 'text_pt','sentiment')"
      ],
      "metadata": {
        "id": "Hjarqc0os72N"
      },
      "execution_count": null,
      "outputs": []
    },
    {
      "cell_type": "code",
      "source": [
        "#filtrando pelo sentiment neg\n",
        "df_en = df_en.where('sentiment == \"neg\" ')\n",
        "df_pt = df_pt.where('sentiment == \"neg\" ')"
      ],
      "metadata": {
        "id": "rrfD8eq9uBH6"
      },
      "execution_count": null,
      "outputs": []
    },
    {
      "cell_type": "code",
      "source": [
        "#removendo coluna\n",
        "df_en = df_en.drop('sentiment')\n",
        "df_pt = df_pt.drop('sentiment')"
      ],
      "metadata": {
        "id": "VdJsRlxNuRqi"
      },
      "execution_count": null,
      "outputs": []
    },
    {
      "cell_type": "code",
      "source": [
        "df_en.show()\n",
        "df_pt.show()"
      ],
      "metadata": {
        "id": "KaS0p1H5ubOz"
      },
      "execution_count": null,
      "outputs": []
    },
    {
      "cell_type": "code",
      "source": [
        "#usar funções explode e split\n",
        "palavras_en = df_en.select(\"id\", explode(split(\"text_en\", \"[ ]+\")).alias(\"palavra\"))\n",
        "palavras_pt = df_pt.select(\"id\", explode(split(\"text_pt\", \"[ ]+\")).alias(\"palavra\"))"
      ],
      "metadata": {
        "id": "IVy8fKVbumVO"
      },
      "execution_count": null,
      "outputs": []
    },
    {
      "cell_type": "code",
      "source": [
        "#usar count para contar\n",
        "contagem_en = palavras_en.groupBy(\"palavra\").count().orderBy(desc(\"count\"))\n",
        "contagem_pt = palavras_pt.groupBy(\"palavra\").count().orderBy(desc(\"count\"))"
      ],
      "metadata": {
        "id": "hlGl4HGZu-Xw"
      },
      "execution_count": null,
      "outputs": []
    },
    {
      "cell_type": "code",
      "source": [
        "#print do resultado\n",
        "print(\"Palavras em Ingles\")\n",
        "contagem_en.show()\n",
        "print(\"Palavras em Portugues\")\n",
        "contagem_pt.show()"
      ],
      "metadata": {
        "id": "SA9U2NhQvbir"
      },
      "execution_count": null,
      "outputs": []
    },
    {
      "cell_type": "code",
      "source": [
        "#soma dos valores de palavras em pt e en\n",
        "contagem_en.agg(sum('count').alias(\"Total_palavras_en\")).show()\n",
        "contagem_pt.agg(sum('count').alias(\"Total_palavras_pt\")).show()"
      ],
      "metadata": {
        "colab": {
          "base_uri": "https://localhost:8080/"
        },
        "id": "TO_BA6xhtbEx",
        "outputId": "4e8cf950-e22d-4ee3-84ec-5f301f9eaeda"
      },
      "execution_count": null,
      "outputs": [
        {
          "output_type": "stream",
          "name": "stdout",
          "text": [
            "+-----------------+\n",
            "|Total_palavras_en|\n",
            "+-----------------+\n",
            "|          5400276|\n",
            "+-----------------+\n",
            "\n",
            "+-----------------+\n",
            "|Total_palavras_pt|\n",
            "+-----------------+\n",
            "|          5455273|\n",
            "+-----------------+\n",
            "\n"
          ]
        }
      ]
    },
    {
      "cell_type": "code",
      "source": [
        "#valores para subtração\n",
        "total_en = contagem_en.agg(sum('count').alias(\"Total_palavras_en\")).first()[0]\n",
        "total_pt = contagem_pt.agg(sum('count').alias(\"Total_palavras_pt\")).first()[0]"
      ],
      "metadata": {
        "id": "nYTeB27utyvQ"
      },
      "execution_count": null,
      "outputs": []
    },
    {
      "cell_type": "code",
      "source": [
        "total_pt, total_en"
      ],
      "metadata": {
        "colab": {
          "base_uri": "https://localhost:8080/"
        },
        "id": "jAjn0GCoyKk-",
        "outputId": "01ce644f-eebc-41bf-b7c5-6843fb8c9233"
      },
      "execution_count": null,
      "outputs": [
        {
          "output_type": "execute_result",
          "data": {
            "text/plain": [
              "(5455273, 5400276)"
            ]
          },
          "metadata": {},
          "execution_count": 99
        }
      ]
    },
    {
      "cell_type": "code",
      "source": [
        "subtracao = total_pt - total_en"
      ],
      "metadata": {
        "id": "JAnR3KnbwstQ"
      },
      "execution_count": null,
      "outputs": []
    },
    {
      "cell_type": "code",
      "source": [
        "print(f'O texto em Português possui {subtracao} palavras a mais que o inglês')"
      ],
      "metadata": {
        "colab": {
          "base_uri": "https://localhost:8080/"
        },
        "id": "w95jobaqy4BQ",
        "outputId": "f5a79b41-ddab-4b71-90c0-6d9a9a2f53c7"
      },
      "execution_count": null,
      "outputs": [
        {
          "output_type": "stream",
          "name": "stdout",
          "text": [
            "O texto em Português possui 54997 palavras a mais que o inglês\n"
          ]
        }
      ]
    },
    {
      "cell_type": "markdown",
      "source": [
        "Aluna: Caroline Vargas da Silva Costa\n",
        "RU: 4184359"
      ],
      "metadata": {
        "id": "L014hCTY2htC"
      }
    },
    {
      "cell_type": "markdown",
      "source": [
        "<h2> O texto em português possui 54997 palavras a mais que o inglês</h2>"
      ],
      "metadata": {
        "id": "OeMMAo5PzJyP"
      }
    }
  ]
}